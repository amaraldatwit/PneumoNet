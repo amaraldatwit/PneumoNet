{
 "cells": [
  {
   "cell_type": "markdown",
   "metadata": {},
   "source": [
    "# Pneumonet Demo Notebook"
   ]
  },
  {
   "cell_type": "markdown",
   "metadata": {},
   "source": [
    "This notebook serves as a demo for use of the pneumonet CNN model. \n",
    "\n",
    "It provides several example images to predict on using the model."
   ]
  },
  {
   "cell_type": "code",
   "execution_count": null,
   "metadata": {},
   "outputs": [],
   "source": [
    "# Necessary imports to run this notebook\n",
    "import tensorflow as tf\n",
    "from PIL import Image\n",
    "import matplotlib.pyplot as plt"
   ]
  },
  {
   "cell_type": "markdown",
   "metadata": {},
   "source": [
    "Loading in the trained model"
   ]
  },
  {
   "cell_type": "code",
   "execution_count": null,
   "metadata": {},
   "outputs": [],
   "source": [
    "pneumonet = tf.keras.models.load_model('../pneumonet70split')"
   ]
  },
  {
   "cell_type": "markdown",
   "metadata": {},
   "source": [
    "Loading in some example images to use in demo"
   ]
  },
  {
   "cell_type": "code",
   "execution_count": null,
   "metadata": {},
   "outputs": [],
   "source": [
    "# Edit im# names to be descriptive of label of image\n",
    "# Consider making these tuples for ease of use\n",
    "im1 = (np.asarray(Image.open('../ex_images/normal1').convert('RGB')), 'normal')\n",
    "im2 = (np.asarray(Image.open('../ex_images/normal2').convert('RGB')), 'nomral')\n",
    "im3 = (np.asarray(Image.open('../ex_images/pneumonia1').convert('RGB')), 'pneumonia')\n",
    "im4 = (np.asarray(Image.open('../ex_images/pneumonia2').convert('RGB')), 'pneumonia')\n",
    "im5 = (np.asarray(Image.open('../ex_images/pneumonia3').convert('RGB')), 'pneumonia')"
   ]
  },
  {
   "cell_type": "code",
   "execution_count": null,
   "metadata": {},
   "outputs": [],
   "source": [
    "# Display one of the example images\n",
    "plt.imshow(im1[0])\n",
    "plt.show()"
   ]
  },
  {
   "cell_type": "markdown",
   "metadata": {},
   "source": [
    "Predicting on the example images with PneumoNet"
   ]
  },
  {
   "cell_type": "code",
   "execution_count": null,
   "metadata": {},
   "outputs": [],
   "source": [
    "# Edit this cell to predict on the different example images\n",
    "pred = pneumonet.predict(im1[0]) # Replace the variable in parenthesis with the image you'd like to predict on\n",
    "\n",
    "print('Actual Label: ', im1[1], ' Predicted Label: ', pred)"
   ]
  },
  {
   "cell_type": "code",
   "execution_count": null,
   "metadata": {},
   "outputs": [],
   "source": []
  }
 ],
 "metadata": {
  "kernelspec": {
   "display_name": "Python 3",
   "language": "python",
   "name": "python3"
  },
  "language_info": {
   "codemirror_mode": {
    "name": "ipython",
    "version": 3
   },
   "file_extension": ".py",
   "mimetype": "text/x-python",
   "name": "python",
   "nbconvert_exporter": "python",
   "pygments_lexer": "ipython3",
   "version": "3.6.10"
  }
 },
 "nbformat": 4,
 "nbformat_minor": 2
}
